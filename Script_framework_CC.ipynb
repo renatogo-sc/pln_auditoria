version https://git-lfs.github.com/spec/v1
oid sha256:a2c335c0eeb5651cd5a92092d447faa3e05d523dd7a56e459bdcf0c6872fcea0
size 211984
